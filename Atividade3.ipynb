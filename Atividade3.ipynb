{
 "cells": [
  {
   "cell_type": "markdown",
   "metadata": {
    "colab_type": "text",
    "id": "ySEHDT457sTW",
    "slideshow": {
     "slide_type": "slide"
    }
   },
   "source": [
    "# Redes Neurais"
   ]
  },
  {
   "cell_type": "markdown",
   "metadata": {
    "colab_type": "text",
    "id": "lqNDjbOI7sTa",
    "slideshow": {
     "slide_type": "-"
    }
   },
   "source": [
    "## Introdução\n",
    "\n",
    "Vimos anteriormente qual o tipo de resposta esperamos com uma regressão. Veremos agora uma outra forma de prever valores numéricos porém utilizando redes neurais.\n",
    "\n",
    "Vamos rapidamente discutir como é formada a estrutura de uma rede e como sua arquitetura se comporta."
   ]
  },
  {
   "cell_type": "markdown",
   "metadata": {
    "colab_type": "text",
    "id": "DW-sOYBp7sTc",
    "slideshow": {
     "slide_type": "slide"
    }
   },
   "source": [
    "## Exemplo de implementação de Rede Neural\n",
    "\n",
    "![SVM01](https://cdn-images-1.medium.com/max/1600/1*DW0Ccmj1hZ0OvSXi7Kz5MQ.jpeg)\n",
    "\n",
    "Cada nó desta rede executa a soma de cada peso recebido por seus nós anteriores e tem sua multiplicação propagada por uma função de ativação:"
   ]
  },
  {
   "cell_type": "markdown",
   "metadata": {
    "colab_type": "text",
    "id": "GGoVKfYE4o0L",
    "slideshow": {
     "slide_type": "slide"
    }
   },
   "source": [
    "![SVM02](https://www.analyticsvidhya.com/wp-content/uploads/2016/03/2.-ann-structure.jpg)\n",
    "\n",
    "A estrutura tenta representar o que ocorre em um neurônio quando estimulado:"
   ]
  },
  {
   "cell_type": "markdown",
   "metadata": {
    "colab_type": "text",
    "id": "6ZQlqZZF4s1o",
    "slideshow": {
     "slide_type": "slide"
    }
   },
   "source": [
    "![SVM03](https://www.codeproject.com/KB/AI/1205732/neuron.png)"
   ]
  },
  {
   "cell_type": "markdown",
   "metadata": {
    "colab_type": "text",
    "id": "Ep5HX8XG4tQd",
    "slideshow": {
     "slide_type": "slide"
    }
   },
   "source": [
    "![SVM04](https://cdn-images-1.medium.com/max/2000/1*1Jr-Lt9vcEOW2opvZyLbdA.png)\n",
    "\n",
    "Diferente dos modelos apresentados anteriormente, uma rede neural trabalha melhor com um número maior de features e pode precisar de um número muito maior de entradas de treino para convergir de maneira satisfatória."
   ]
  },
  {
   "cell_type": "code",
   "execution_count": null,
   "metadata": {
    "colab": {},
    "colab_type": "code",
    "id": "KiwZRW717sTf"
   },
   "outputs": [],
   "source": [
    "from IPython.lib.display import YouTubeVideo"
   ]
  },
  {
   "cell_type": "code",
   "execution_count": null,
   "metadata": {
    "colab": {
     "base_uri": "https://localhost:8080/",
     "height": 581
    },
    "colab_type": "code",
    "executionInfo": {
     "elapsed": 893,
     "status": "ok",
     "timestamp": 1538208719010,
     "user": {
      "displayName": "Fernando Secol",
      "photoUrl": "",
      "userId": "03337346942151607429"
     },
     "user_tz": 180
    },
    "id": "7d2Sjhfv7sTm",
    "outputId": "a62165bd-f58e-41e8-f4e3-b0367800279b",
    "slideshow": {
     "slide_type": "slide"
    }
   },
   "outputs": [],
   "source": [
    "YouTubeVideo('rEDzUT3ymw4', width=720, height=560)"
   ]
  },
  {
   "cell_type": "code",
   "execution_count": null,
   "metadata": {
    "colab": {},
    "colab_type": "code",
    "id": "7F8w49vB7sT0"
   },
   "outputs": [],
   "source": [
    "import numpy as np\n",
    "import pandas as pd\n",
    "\n",
    "import matplotlib.pyplot as plt\n",
    "\n",
    "import tensorflow as tf\n",
    "from tensorflow import keras\n",
    "\n",
    "from sklearn.datasets.samples_generator import make_regression\n",
    "from sklearn.model_selection import train_test_split\n",
    "from sklearn.preprocessing import StandardScaler"
   ]
  },
  {
   "cell_type": "markdown",
   "metadata": {
    "colab_type": "text",
    "id": "iWjFODIG7sT8",
    "slideshow": {
     "slide_type": "slide"
    }
   },
   "source": [
    "## Gerando uma base de dados\n",
    "\n",
    "`make_regression` cria uma amostra randômica para estudos que envolvem regressão.\n",
    "\n",
    "---\n",
    "\n",
    "| Parâmetro | Descrição |\n",
    "|--|--|\n",
    "| n_samples | O número de amostras |\n",
    "| n_features | O número de features |\n",
    "| noise | Desvio padrão do ruído aplicado |\n"
   ]
  },
  {
   "cell_type": "code",
   "execution_count": null,
   "metadata": {
    "colab": {},
    "colab_type": "code",
    "id": "TqwvCqAn50Qu"
   },
   "outputs": [],
   "source": [
    "?make_regression"
   ]
  },
  {
   "cell_type": "code",
   "execution_count": null,
   "metadata": {
    "colab": {},
    "colab_type": "code",
    "id": "vloWyp3m7zLx",
    "slideshow": {
     "slide_type": "slide"
    }
   },
   "outputs": [],
   "source": [
    "X, y = make_regression(n_samples = 1000, n_features = 20, noise = 0.1)"
   ]
  },
  {
   "cell_type": "code",
   "execution_count": null,
   "metadata": {
    "colab": {
     "base_uri": "https://localhost:8080/",
     "height": 91
    },
    "colab_type": "code",
    "executionInfo": {
     "elapsed": 983,
     "status": "ok",
     "timestamp": 1538208724641,
     "user": {
      "displayName": "Fernando Secol",
      "photoUrl": "",
      "userId": "03337346942151607429"
     },
     "user_tz": 180
    },
    "id": "5SrnMQpp9wi0",
    "outputId": "ca258cb4-dbe8-4598-f332-86066d37975a",
    "slideshow": {
     "slide_type": "-"
    }
   },
   "outputs": [],
   "source": [
    "X[0]"
   ]
  },
  {
   "cell_type": "code",
   "execution_count": null,
   "metadata": {
    "colab": {
     "base_uri": "https://localhost:8080/",
     "height": 35
    },
    "colab_type": "code",
    "executionInfo": {
     "elapsed": 571,
     "status": "ok",
     "timestamp": 1538208725404,
     "user": {
      "displayName": "Fernando Secol",
      "photoUrl": "",
      "userId": "03337346942151607429"
     },
     "user_tz": 180
    },
    "id": "zPpAs5dH93VM",
    "outputId": "ae7f11ef-b94c-4cc2-884d-5aee1e53eb7d",
    "slideshow": {
     "slide_type": "-"
    }
   },
   "outputs": [],
   "source": [
    "y[0]"
   ]
  },
  {
   "cell_type": "markdown",
   "metadata": {
    "colab_type": "text",
    "id": "C8A4dOsL7sT-",
    "slideshow": {
     "slide_type": "slide"
    }
   },
   "source": [
    "## Separando nossa informação em treino / teste"
   ]
  },
  {
   "cell_type": "code",
   "execution_count": null,
   "metadata": {
    "colab": {},
    "colab_type": "code",
    "id": "QqUAd6Q5-7KE",
    "slideshow": {
     "slide_type": "-"
    }
   },
   "outputs": [],
   "source": [
    "X_train, X_test, y_train, y_test = train_test_split(X, y, test_size = 0.33, random_state = 42)"
   ]
  },
  {
   "cell_type": "markdown",
   "metadata": {
    "colab_type": "text",
    "id": "5C65AMpY_ZGg",
    "slideshow": {
     "slide_type": "slide"
    }
   },
   "source": [
    "## Padronizando os dados"
   ]
  },
  {
   "cell_type": "code",
   "execution_count": null,
   "metadata": {
    "colab": {},
    "colab_type": "code",
    "id": "3x3rXjAf_dCT",
    "slideshow": {
     "slide_type": "-"
    }
   },
   "outputs": [],
   "source": [
    "X_scaler = StandardScaler()\n",
    "X_train = X_scaler.fit_transform(X_train)\n",
    "X_test = X_scaler.transform(X_test)\n",
    "\n",
    "y_scaler = StandardScaler()\n",
    "y_train = y_scaler.fit_transform(y_train[:, None])\n",
    "y_test = y_scaler.transform(y_test[:, None])"
   ]
  },
  {
   "cell_type": "code",
   "execution_count": null,
   "metadata": {
    "colab": {
     "base_uri": "https://localhost:8080/",
     "height": 91
    },
    "colab_type": "code",
    "executionInfo": {
     "elapsed": 767,
     "status": "ok",
     "timestamp": 1538208728089,
     "user": {
      "displayName": "Fernando Secol",
      "photoUrl": "",
      "userId": "03337346942151607429"
     },
     "user_tz": 180
    },
    "id": "srnvSagF_1fL",
    "outputId": "98401414-c9ab-4388-d5ee-b8b618304201",
    "slideshow": {
     "slide_type": "slide"
    }
   },
   "outputs": [],
   "source": [
    "X_train[0]"
   ]
  },
  {
   "cell_type": "code",
   "execution_count": null,
   "metadata": {
    "colab": {
     "base_uri": "https://localhost:8080/",
     "height": 35
    },
    "colab_type": "code",
    "executionInfo": {
     "elapsed": 769,
     "status": "ok",
     "timestamp": 1538208729088,
     "user": {
      "displayName": "Fernando Secol",
      "photoUrl": "",
      "userId": "03337346942151607429"
     },
     "user_tz": 180
    },
    "id": "ay5OHRg__4jF",
    "outputId": "011db767-2a3d-46bb-8863-3ef5189568ea",
    "slideshow": {
     "slide_type": "-"
    }
   },
   "outputs": [],
   "source": [
    "y_train[0]"
   ]
  },
  {
   "cell_type": "code",
   "execution_count": null,
   "metadata": {
    "colab": {
     "base_uri": "https://localhost:8080/",
     "height": 365
    },
    "colab_type": "code",
    "executionInfo": {
     "elapsed": 1235,
     "status": "ok",
     "timestamp": 1538208730518,
     "user": {
      "displayName": "Fernando Secol",
      "photoUrl": "",
      "userId": "03337346942151607429"
     },
     "user_tz": 180
    },
    "id": "GTvRI8dDAcqt",
    "outputId": "d116707a-fa99-4225-bb90-3722190ed234",
    "slideshow": {
     "slide_type": "slide"
    }
   },
   "outputs": [],
   "source": [
    "plt.scatter(X_train[:, 12], y_train)"
   ]
  },
  {
   "cell_type": "markdown",
   "metadata": {
    "colab_type": "text",
    "id": "ALYMYdJS7sVd",
    "slideshow": {
     "slide_type": "slide"
    }
   },
   "source": [
    "## Tensorflow\n",
    "\n",
    "O [TensorFlow™](https://www.tensorflow.org/?hl=pt-br) é uma biblioteca de software de código aberto para computação numérica que usa gráficos de fluxo de dados.\n",
    "\n",
    "[TensorFlow Playground](playground.tensorflow.org)"
   ]
  },
  {
   "cell_type": "markdown",
   "metadata": {
    "colab_type": "text",
    "id": "QkdZzxb_EZ0H",
    "slideshow": {
     "slide_type": "slide"
    }
   },
   "source": [
    "### Sequential()\n",
    "\n",
    "`Sequential` é a classe que encapsula a lista de camadas que que dará forma ao modelo.\n",
    "\n",
    "```python\n",
    "model = Sequential()\n",
    "model.add(Dense(32, input_shape = (500,)))\n",
    "model.add(Dense(32))\n",
    "```\n"
   ]
  },
  {
   "cell_type": "markdown",
   "metadata": {
    "colab_type": "text",
    "id": "7WyQD0_fHc-s",
    "slideshow": {
     "slide_type": "slide"
    }
   },
   "source": [
    "### Dense\n",
    "\n",
    "`Dense` é a classe que implementa uma camada do modelo.\n",
    "\n",
    "---\n",
    "\n",
    "| Parâmetro | Descrição |\n",
    "|--|--|\n",
    "| units | Dimensão da camada |\n",
    "| activation | A função de ativação dos nós |\n",
    "| input_shape | Dimensão dos inputs da rede |"
   ]
  },
  {
   "cell_type": "markdown",
   "metadata": {
    "colab_type": "text",
    "id": "gZB98qeIJpG7",
    "slideshow": {
     "slide_type": "slide"
    }
   },
   "source": [
    "### RMSPropOptimizer\n",
    "\n",
    "`RMSPropOptimizer` classe que controla o otimizador da rede.\n",
    "\n",
    "### keras.Sequential.compile\n",
    "\n",
    "Compila o modelo, geralmente recebe como parâmetro `loss`, `optimizer`, `metrics`.\n",
    "\n",
    "---\n",
    "\n",
    "| Parâmetro | Descrição |\n",
    "|--|--|\n",
    "| loss | Função considerada para cálculo do erro de saída do modelo |\n",
    "| optimizer | Função utilizada para otimizar o modelo |\n",
    "| metrics | Lista de métricas utilizadas para medir o desempenho do modelo durante o treino e teste |"
   ]
  },
  {
   "cell_type": "code",
   "execution_count": null,
   "metadata": {
    "colab": {
     "base_uri": "https://localhost:8080/",
     "height": 257
    },
    "colab_type": "code",
    "executionInfo": {
     "elapsed": 833,
     "status": "ok",
     "timestamp": 1538208731410,
     "user": {
      "displayName": "Fernando Secol",
      "photoUrl": "",
      "userId": "03337346942151607429"
     },
     "user_tz": 180
    },
    "id": "2MBa1Ut77sVh",
    "outputId": "dc043fa2-a9dd-4a4f-b3a5-ae480d3b247a",
    "slideshow": {
     "slide_type": "slide"
    }
   },
   "outputs": [],
   "source": [
    "def build_model():\n",
    "    model = keras.Sequential()\n",
    "    model.add(keras.layers.Dense(64, activation=tf.nn.relu, input_shape=(X_train.shape[1],)))\n",
    "    model.add(keras.layers.Dense(64, activation=tf.nn.relu))\n",
    "    model.add(keras.layers.Dense(1))\n",
    "\n",
    "    optimizer = tf.train.RMSPropOptimizer(0.001)\n",
    "\n",
    "    model.compile(loss='mse', optimizer=optimizer, metrics=['mae'])\n",
    "    return model\n",
    "\n",
    "model = build_model()\n",
    "model.summary()"
   ]
  },
  {
   "cell_type": "markdown",
   "metadata": {
    "colab_type": "text",
    "id": "SjJhHx177sVs",
    "slideshow": {
     "slide_type": "slide"
    }
   },
   "source": [
    "| Layer (type)  | Output Shape | Param # |\n",
    "|--|--|--|\n",
    "| dense_3 (Dense) | (None, 64) | 1344 |\n",
    "| dense_4 (Dense) | (None, 64) | 4160 |\n",
    "| dense_5 (Dense) | (None, 1) | 65 |\n",
    "\n",
    "---\n",
    "\n",
    "- Layer (type) - Retorna nome da camada e tipo\n",
    "- Output Shape - Retorna dimensão do vetor\n",
    "- Param # - Retorna a o resultado de $inputs \\times nós + bias $\n",
    "\n",
    "Ex. $20 \\times 64 + 64 = 1344$"
   ]
  },
  {
   "cell_type": "code",
   "execution_count": null,
   "metadata": {
    "colab": {
     "base_uri": "https://localhost:8080/",
     "height": 18539
    },
    "colab_type": "code",
    "executionInfo": {
     "elapsed": 13427,
     "status": "ok",
     "timestamp": 1538208745095,
     "user": {
      "displayName": "Fernando Secol",
      "photoUrl": "",
      "userId": "03337346942151607429"
     },
     "user_tz": 180
    },
    "id": "ad67MFoD7sVw",
    "outputId": "5395591f-49b8-4d1f-b64b-b9bf2510f14c",
    "slideshow": {
     "slide_type": "slide"
    }
   },
   "outputs": [],
   "source": [
    "history = model.fit(X_train, y_train, epochs = 500, verbose = True, validation_split = 0.2)"
   ]
  },
  {
   "cell_type": "markdown",
   "metadata": {
    "colab_type": "text",
    "id": "No43nWUq7sV9",
    "slideshow": {
     "slide_type": "slide"
    }
   },
   "source": [
    "Podemos plotar o erro para nosso dado de treino e teste num gráfico.\n",
    "\n",
    "Facilitando a verificação de overfit e underfit."
   ]
  },
  {
   "cell_type": "code",
   "execution_count": null,
   "metadata": {
    "colab": {
     "base_uri": "https://localhost:8080/",
     "height": 606
    },
    "colab_type": "code",
    "executionInfo": {
     "elapsed": 1171,
     "status": "ok",
     "timestamp": 1538208746611,
     "user": {
      "displayName": "Fernando Secol",
      "photoUrl": "",
      "userId": "03337346942151607429"
     },
     "user_tz": 180
    },
    "id": "FIJIxuC67sV_",
    "outputId": "6a0fa70f-b5de-40bf-fc3b-6c2bf2fc8ad9",
    "slideshow": {
     "slide_type": "-"
    }
   },
   "outputs": [],
   "source": [
    "def plot_history(history):\n",
    "  plt.figure(figsize = (15, 10))\n",
    "  plt.xlabel('Epoch')\n",
    "  plt.ylabel('Mean Abs Error')\n",
    "  plt.plot(history.epoch, np.array(history.history['mean_absolute_error']), label='Train Loss')\n",
    "  plt.plot(history.epoch, np.array(history.history['val_mean_absolute_error']), label = 'Val loss')\n",
    "  plt.legend()\n",
    "  \n",
    "plot_history(history)  "
   ]
  },
  {
   "cell_type": "markdown",
   "metadata": {
    "colab_type": "text",
    "id": "qLg_Wwz97sWp",
    "slideshow": {
     "slide_type": "slide"
    }
   },
   "source": [
    "Vemos que houve pouco melhora em nosso modelo após a época 200. Podemos criar um gatilho de earlystopping.\n",
    "\n",
    "Este gatilho irá automaticamente parar o treinamento caso ele não veja melhoria no modelo em um número definido de épocas.\n",
    "\n",
    "Para isso, devemos modificar o nosso modelo:"
   ]
  },
  {
   "cell_type": "code",
   "execution_count": null,
   "metadata": {
    "colab": {
     "base_uri": "https://localhost:8080/",
     "height": 606
    },
    "colab_type": "code",
    "executionInfo": {
     "elapsed": 7645,
     "status": "ok",
     "timestamp": 1538208754484,
     "user": {
      "displayName": "Fernando Secol",
      "photoUrl": "",
      "userId": "03337346942151607429"
     },
     "user_tz": 180
    },
    "id": "qdUNkAxC7sWr",
    "outputId": "a67dc28b-4d66-43db-b7f0-89dab8742bed",
    "slideshow": {
     "slide_type": "slide"
    }
   },
   "outputs": [],
   "source": [
    "model = build_model()\n",
    "\n",
    "early_stop = keras.callbacks.EarlyStopping(monitor = 'val_loss', patience = 20)\n",
    "\n",
    "history = model.fit(X_train, y_train, epochs = 500, validation_split = 0.2, verbose = 0, callbacks = [early_stop])\n",
    "\n",
    "plot_history(history)"
   ]
  },
  {
   "cell_type": "markdown",
   "metadata": {
    "colab_type": "text",
    "id": "PuyFNL0W7sWz",
    "slideshow": {
     "slide_type": "slide"
    }
   },
   "source": [
    "Calculando o erro obtido no teste do modelo"
   ]
  },
  {
   "cell_type": "code",
   "execution_count": null,
   "metadata": {
    "colab": {
     "base_uri": "https://localhost:8080/",
     "height": 54
    },
    "colab_type": "code",
    "executionInfo": {
     "elapsed": 985,
     "status": "ok",
     "timestamp": 1538208755529,
     "user": {
      "displayName": "Fernando Secol",
      "photoUrl": "",
      "userId": "03337346942151607429"
     },
     "user_tz": 180
    },
    "id": "dGHL75DX7sW5",
    "outputId": "3da52c0b-8c0e-4d94-b37d-4a45c88d7359",
    "slideshow": {
     "slide_type": "-"
    }
   },
   "outputs": [],
   "source": [
    "[loss, mae] = model.evaluate(X_test, y_test)\n",
    "\n",
    "print(\"Mean Abs Error: {:.4f}\".format(mae))"
   ]
  },
  {
   "cell_type": "markdown",
   "metadata": {
    "colab_type": "text",
    "id": "_BkP12yl7sXK",
    "slideshow": {
     "slide_type": "slide"
    }
   },
   "source": [
    "Vamos ver como o modelo se comporta ao prever pontos."
   ]
  },
  {
   "cell_type": "code",
   "execution_count": null,
   "metadata": {
    "colab": {
     "base_uri": "https://localhost:8080/",
     "height": 624
    },
    "colab_type": "code",
    "executionInfo": {
     "elapsed": 1099,
     "status": "ok",
     "timestamp": 1538208756816,
     "user": {
      "displayName": "Fernando Secol",
      "photoUrl": "",
      "userId": "03337346942151607429"
     },
     "user_tz": 180
    },
    "id": "2rNp4prS7sXN",
    "outputId": "059067e7-c0de-498f-c09c-f59c2e46027d",
    "slideshow": {
     "slide_type": "-"
    }
   },
   "outputs": [],
   "source": [
    "test_preds = model.predict(X_test).flatten()\n",
    "\n",
    "plt.figure(figsize = (15, 10))\n",
    "plt.scatter(y_test, test_preds )\n",
    "plt.xlabel('Valores reais')\n",
    "plt.ylabel('Previsões')\n",
    "plt.plot([5, -5], [5, -5])"
   ]
  },
  {
   "cell_type": "markdown",
   "metadata": {
    "colab_type": "text",
    "id": "K-ljyfhUlgY9",
    "slideshow": {
     "slide_type": "slide"
    }
   },
   "source": [
    "## Como identificar Overfitting e Underfitting?\n",
    "\n",
    "Overfiting e Underfitting são o caso de resultados ruins em modelos de inteligência artificial.\n",
    "\n",
    "Podemos classificar como:\n",
    "\n",
    "- **Underfitting**\n",
    " - O modelo tem resultados ruins com a parcela de treino e validação, ou seja, o modelo não é capaz de entregar o resultado esperado por causa de sua arquitetura ou da qualidade da informação que lhe é apresentada.\n",
    " \n",
    "\n",
    "- **Overfitting**\n",
    " - O modelo tem resultados excelentes com sua parcela de treinamento, mas é incapaz de reproduzir os mesmos resultados com a parcela de validação.\n",
    " \n",
    " ![PIC2](https://shapeofdata.files.wordpress.com/2013/02/overfitting.png)"
   ]
  },
  {
   "cell_type": "markdown",
   "metadata": {
    "colab_type": "text",
    "id": "Bl4A_4rcqjib",
    "slideshow": {
     "slide_type": "slide"
    }
   },
   "source": [
    "#### Underfitting\n",
    "\n",
    "- Quando verificamos que o erro da parcela de treino é menor que a de validação e existe uma tendência de queda na parcela de validação, ou seja, esse valor de erro pode melhorar com um número maior de épocas.\n",
    "\n",
    " ![PIC3](https://3qeqpr26caki16dnhd19sv6by6v-wpengine.netdna-ssl.com/wp-content/uploads/2017/07/Diagnostic-Line-Plot-Showing-an-Underfit-Model.png)"
   ]
  },
  {
   "cell_type": "markdown",
   "metadata": {
    "colab_type": "text",
    "id": "zgh9m6V8ruc-",
    "slideshow": {
     "slide_type": "slide"
    }
   },
   "source": [
    "- Outro exemplo é quando temos um comportamento parecido entre a curva de treino e validação, porém, temos uma variação no erro entre estas curvas. Esse comportamento pode ser causado por um *underfit* da rede e, neste caso, pode ser corrigido modificando a estrutura da rede.\n",
    "\n",
    "\n",
    " ![PIC4](https://3qeqpr26caki16dnhd19sv6by6v-wpengine.netdna-ssl.com/wp-content/uploads/2017/07/Diagnostic-Line-Plot-Showing-an-Underfit-Model-via-Status.png)"
   ]
  },
  {
   "cell_type": "code",
   "execution_count": null,
   "metadata": {
    "colab": {
     "base_uri": "https://localhost:8080/",
     "height": 581
    },
    "colab_type": "code",
    "executionInfo": {
     "elapsed": 826,
     "status": "ok",
     "timestamp": 1538208757728,
     "user": {
      "displayName": "Fernando Secol",
      "photoUrl": "",
      "userId": "03337346942151607429"
     },
     "user_tz": 180
    },
    "id": "Xj6v8q45sssQ",
    "outputId": "e5b03ea5-a724-4f87-fee0-42ad029250df",
    "slideshow": {
     "slide_type": "slide"
    }
   },
   "outputs": [],
   "source": [
    "YouTubeVideo('0h8lAm5Ki5g', width = 720, height = 560)"
   ]
  },
  {
   "cell_type": "markdown",
   "metadata": {
    "colab_type": "text",
    "id": "XLU_1A6Sretc",
    "slideshow": {
     "slide_type": "slide"
    }
   },
   "source": [
    "#### Overfitting\n",
    "\n",
    "- Quando verificamos que o erro da parcela de treino melhora quanto maior é o número de épocas, porém, a parcela de validação tem um comportamento completamente oposto ou vemos este erro diminuir até um determinado ponto e depois degradar.\n",
    "\n",
    " ![PIC3](https://3qeqpr26caki16dnhd19sv6by6v-wpengine.netdna-ssl.com/wp-content/uploads/2017/07/Diagnostic-Line-Plot-Showing-an-Overfit-Model.png)"
   ]
  },
  {
   "cell_type": "markdown",
   "metadata": {
    "colab_type": "text",
    "id": "LehF-jmsvvAQ",
    "slideshow": {
     "slide_type": "slide"
    }
   },
   "source": [
    "Podemos combater o *overfit* da rede adicionando uma regularização dos peso do modelo ou uma política de dropout.\n",
    "\n",
    "#### Regularização de peso\n",
    "\n",
    "- **L1 regularization**\n",
    " - O custo adicionado é proporcional a soma dos valores absolutos dos pesos.\n",
    "\n",
    "- **L2 regularization**\n",
    " - O custo adicionado é proporcional a soma dos valores quadráticos dos pesos.\n",
    " \n",
    "Em poucas palavras, L1 tem o mesmo efeito de reduzir o número de inputs da rede, fazendo com que inputs que tem peso pequeno se aproximem de zero e reduzindo o ruído causado. L2 resulta valores de peso geral menores e estabiliza os pesos quando há alta correlação entre os recursos de entrada."
   ]
  },
  {
   "cell_type": "markdown",
   "metadata": {
    "colab_type": "text",
    "id": "gRenDJF-0Wxr",
    "slideshow": {
     "slide_type": "slide"
    }
   },
   "source": [
    "#### Dropout\n",
    "\n",
    "Dropout se resume em, aleatoriamente, desligar conexões entre os nós de duas camadas. Diminuindo assim a complexidade da arquitetura da rede.\n",
    "\n",
    " ![PIC3](https://cdn-images-1.medium.com/max/800/1*iWQzxhVlvadk6VAJjsgXgg.png)\n",
    "\n"
   ]
  },
  {
   "cell_type": "code",
   "execution_count": null,
   "metadata": {
    "colab": {
     "base_uri": "https://localhost:8080/",
     "height": 581
    },
    "colab_type": "code",
    "executionInfo": {
     "elapsed": 827,
     "status": "ok",
     "timestamp": 1538208758849,
     "user": {
      "displayName": "Fernando Secol",
      "photoUrl": "",
      "userId": "03337346942151607429"
     },
     "user_tz": 180
    },
    "id": "Lvx9U6lN1T4c",
    "outputId": "e77784f8-76e0-44b7-e4e8-e8c45c935109",
    "slideshow": {
     "slide_type": "slide"
    }
   },
   "outputs": [],
   "source": [
    "YouTubeVideo('DEMmkFC6IGM', width = 720, height = 560)"
   ]
  },
  {
   "cell_type": "markdown",
   "metadata": {
    "colab_type": "text",
    "id": "kk49cydT7sXa",
    "slideshow": {
     "slide_type": "slide"
    }
   },
   "source": [
    "## Resumo\n",
    "\n",
    "- O erro quadrático médio (MSE) é comumente utilizado na predição de valores numéricos discretos em problemas de regressão linear;\n",
    "- Diferente de problemas de classificação; Para problemas de regressão é comum utilizar métricas como o erro médio absoluto (MAE);\n",
    "- Quando nossos inputs estão em _ranges_ distintos, é uma boa prática quando falamos de modelos que dependem de cálculo de distâncias a padronização ou normalização destes valores;\n",
    "- Se o número de amostras for pequeno, de preferência sempre a redes com poucas camadas escondidas para evitar _overfit_ da rede.\n",
    "- EarlyStopping é um bom meio de evitar o _overfit_."
   ]
  },
  {
   "cell_type": "markdown",
   "metadata": {
    "colab_type": "text",
    "id": "hNrW8fuL7sXb",
    "slideshow": {
     "slide_type": "slide"
    }
   },
   "source": [
    "# Classificação com NN\n",
    "\n",
    "Criar um modelo de rede neural para resolver o problema da aula passada. Utilize os mesmos meios demonstrados acima. Para facilitar, vou importar os dados em um formato de dataset."
   ]
  },
  {
   "cell_type": "code",
   "execution_count": null,
   "metadata": {
    "colab": {
     "base_uri": "https://localhost:8080/",
     "height": 206
    },
    "colab_type": "code",
    "executionInfo": {
     "elapsed": 1067,
     "status": "ok",
     "timestamp": 1538208760129,
     "user": {
      "displayName": "Fernando Secol",
      "photoUrl": "",
      "userId": "03337346942151607429"
     },
     "user_tz": 180
    },
    "id": "-gNImtGl7sXd",
    "outputId": "dedb69c6-6d2e-418a-d3c0-e0acfcdff5eb"
   },
   "outputs": [],
   "source": [
    "dados = pd.read_csv('https://github.com/pgiaeinstein/comp_cog/raw/master/custo_colaborador_filtro.csv')\n",
    "dados.head()"
   ]
  },
  {
   "cell_type": "code",
   "execution_count": null,
   "metadata": {
    "colab": {},
    "colab_type": "code",
    "id": "XWhZSTm82iV6"
   },
   "outputs": [],
   "source": [
    "X = dados.iloc[:, :6].values\n",
    "y = dados.iloc[:, -1].values"
   ]
  },
  {
   "cell_type": "code",
   "execution_count": null,
   "metadata": {
    "colab": {
     "base_uri": "https://localhost:8080/",
     "height": 35
    },
    "colab_type": "code",
    "executionInfo": {
     "elapsed": 626,
     "status": "ok",
     "timestamp": 1538208761836,
     "user": {
      "displayName": "Fernando Secol",
      "photoUrl": "",
      "userId": "03337346942151607429"
     },
     "user_tz": 180
    },
    "id": "_QN_-g7d3sBq",
    "outputId": "87c3c6fc-916a-48d2-e171-7ae3ff515396"
   },
   "outputs": [],
   "source": [
    "X[0]"
   ]
  },
  {
   "cell_type": "code",
   "execution_count": null,
   "metadata": {
    "colab": {
     "base_uri": "https://localhost:8080/",
     "height": 35
    },
    "colab_type": "code",
    "executionInfo": {
     "elapsed": 946,
     "status": "ok",
     "timestamp": 1538208763005,
     "user": {
      "displayName": "Fernando Secol",
      "photoUrl": "",
      "userId": "03337346942151607429"
     },
     "user_tz": 180
    },
    "id": "A4-g5O-Q3vCB",
    "outputId": "677691d8-e07e-4045-c1d1-97a7c3cb6c8a"
   },
   "outputs": [],
   "source": [
    "y[0]"
   ]
  },
  {
   "cell_type": "code",
   "execution_count": null,
   "metadata": {
    "colab": {},
    "colab_type": "code",
    "id": "qm5R0erS4AVL"
   },
   "outputs": [],
   "source": [
    "X_train, X_test, y_train, y_test = train_test_split(X, y, test_size = 0.33, random_state = 42)"
   ]
  },
  {
   "cell_type": "code",
   "execution_count": null,
   "metadata": {
    "colab": {},
    "colab_type": "code",
    "id": "ZSKbvz3r35UM"
   },
   "outputs": [],
   "source": [
    "X_scaler = StandardScaler()\n",
    "X_train = X_scaler.fit_transform(X_train)\n",
    "X_test = X_scaler.transform(X_test)\n",
    "\n",
    "y_scaler = StandardScaler()\n",
    "y_train = y_scaler.fit_transform(y_train[:, None])\n",
    "y_test = y_scaler.transform(y_test[:, None])"
   ]
  },
  {
   "cell_type": "code",
   "execution_count": null,
   "metadata": {
    "colab": {
     "base_uri": "https://localhost:8080/",
     "height": 257
    },
    "colab_type": "code",
    "executionInfo": {
     "elapsed": 955,
     "status": "ok",
     "timestamp": 1538208765889,
     "user": {
      "displayName": "Fernando Secol",
      "photoUrl": "",
      "userId": "03337346942151607429"
     },
     "user_tz": 180
    },
    "id": "K35CbSQx4Jr_",
    "outputId": "cc53b6a7-27c3-43bf-d6aa-17b829fc0a2b"
   },
   "outputs": [],
   "source": [
    "def build_model():\n",
    "    model = keras.Sequential()\n",
    "    model.add(keras.layers.Dense(12, activation=tf.nn.relu, input_shape=(X_train.shape[1],)))\n",
    "    model.add(keras.layers.Dense(12, activation=tf.nn.relu))\n",
    "    model.add(keras.layers.Dense(1))\n",
    "\n",
    "    optimizer = tf.train.RMSPropOptimizer(0.001)\n",
    "\n",
    "    model.compile(loss='mse', optimizer=optimizer, metrics=['mae'])\n",
    "    return model\n",
    "\n",
    "model = build_model()\n",
    "model.summary()"
   ]
  },
  {
   "cell_type": "code",
   "execution_count": null,
   "metadata": {
    "colab": {
     "base_uri": "https://localhost:8080/",
     "height": 606
    },
    "colab_type": "code",
    "executionInfo": {
     "elapsed": 4989,
     "status": "ok",
     "timestamp": 1538208771082,
     "user": {
      "displayName": "Fernando Secol",
      "photoUrl": "",
      "userId": "03337346942151607429"
     },
     "user_tz": 180
    },
    "id": "48o4UFiK4oA8",
    "outputId": "68cf44f0-fc34-4ad0-b309-1100bfd1eb95"
   },
   "outputs": [],
   "source": [
    "early_stop = keras.callbacks.EarlyStopping(monitor = 'val_loss', patience = 20)\n",
    "\n",
    "history = model.fit(X_train, y_train, epochs = 500, validation_split = 0.2, verbose = 0, callbacks = [early_stop])\n",
    "\n",
    "plot_history(history)"
   ]
  },
  {
   "cell_type": "code",
   "execution_count": null,
   "metadata": {
    "colab": {
     "base_uri": "https://localhost:8080/",
     "height": 54
    },
    "colab_type": "code",
    "executionInfo": {
     "elapsed": 914,
     "status": "ok",
     "timestamp": 1538208772045,
     "user": {
      "displayName": "Fernando Secol",
      "photoUrl": "",
      "userId": "03337346942151607429"
     },
     "user_tz": 180
    },
    "id": "6MoGZjWn48x1",
    "outputId": "4ad15a02-97f7-4ab5-afda-e528c8ea5fe0"
   },
   "outputs": [],
   "source": [
    "[loss, mae] = model.evaluate(X_test, y_test)\n",
    "\n",
    "print(\"Mean Abs Error: {:.4f}\".format(mae))"
   ]
  },
  {
   "cell_type": "markdown",
   "metadata": {
    "colab_type": "text",
    "id": "iIW86R6n5VcS"
   },
   "source": [
    "Com aquilo que aprendemos, vamos tentar resolver um problema de classificação binária. Veja como é simples apenas modificando um pouco a estrutura de nossa rede."
   ]
  },
  {
   "cell_type": "code",
   "execution_count": null,
   "metadata": {
    "colab": {},
    "colab_type": "code",
    "id": "z1tkxyxr8AC7"
   },
   "outputs": [],
   "source": [
    "from sklearn.datasets import make_classification"
   ]
  },
  {
   "cell_type": "code",
   "execution_count": null,
   "metadata": {
    "colab": {},
    "colab_type": "code",
    "id": "D3rMv-VN8GF5"
   },
   "outputs": [],
   "source": [
    "X, y = make_classification(n_samples = 100000)"
   ]
  },
  {
   "cell_type": "code",
   "execution_count": null,
   "metadata": {
    "colab": {
     "base_uri": "https://localhost:8080/",
     "height": 91
    },
    "colab_type": "code",
    "executionInfo": {
     "elapsed": 642,
     "status": "ok",
     "timestamp": 1538208774733,
     "user": {
      "displayName": "Fernando Secol",
      "photoUrl": "",
      "userId": "03337346942151607429"
     },
     "user_tz": 180
    },
    "id": "Xo4urCsr8JVk",
    "outputId": "a6b31a5a-3478-4390-8b71-75e2021ca479"
   },
   "outputs": [],
   "source": [
    "X[0]"
   ]
  },
  {
   "cell_type": "code",
   "execution_count": null,
   "metadata": {
    "colab": {
     "base_uri": "https://localhost:8080/",
     "height": 35
    },
    "colab_type": "code",
    "executionInfo": {
     "elapsed": 678,
     "status": "ok",
     "timestamp": 1538208775540,
     "user": {
      "displayName": "Fernando Secol",
      "photoUrl": "",
      "userId": "03337346942151607429"
     },
     "user_tz": 180
    },
    "id": "Fh4RMRVd88y2",
    "outputId": "8668e67b-1a8d-439d-f2e5-7a9431e9498a"
   },
   "outputs": [],
   "source": [
    "y[0]"
   ]
  },
  {
   "cell_type": "code",
   "execution_count": null,
   "metadata": {
    "colab": {},
    "colab_type": "code",
    "id": "Rh3KN6pF9G4h"
   },
   "outputs": [],
   "source": [
    "X_train, X_test, y_train, y_test = train_test_split(X, y, test_size = .5)"
   ]
  },
  {
   "cell_type": "code",
   "execution_count": null,
   "metadata": {
    "colab": {},
    "colab_type": "code",
    "id": "r9BLYmxW9HPd"
   },
   "outputs": [],
   "source": [
    "X_scaler = StandardScaler()\n",
    "X_train = X_scaler.fit_transform(X_train)\n",
    "X_test = X_scaler.transform(X_test)"
   ]
  },
  {
   "cell_type": "code",
   "execution_count": null,
   "metadata": {
    "colab": {
     "base_uri": "https://localhost:8080/",
     "height": 91
    },
    "colab_type": "code",
    "executionInfo": {
     "elapsed": 1284,
     "status": "ok",
     "timestamp": 1538208778480,
     "user": {
      "displayName": "Fernando Secol",
      "photoUrl": "",
      "userId": "03337346942151607429"
     },
     "user_tz": 180
    },
    "id": "Qa9DZA5-9bXV",
    "outputId": "4f39731d-6a24-4732-9b3f-d975b974c6ba"
   },
   "outputs": [],
   "source": [
    "X_train[0]"
   ]
  },
  {
   "cell_type": "markdown",
   "metadata": {
    "colab_type": "text",
    "id": "XwcBMy_1-XX8"
   },
   "source": [
    "Vamos criar nossa função `build_model` verifique que agora temos um problema de classificação binário, sendo assim, iremos utilizar como função de loss a `binary_crossentropy`."
   ]
  },
  {
   "cell_type": "code",
   "execution_count": null,
   "metadata": {
    "colab": {},
    "colab_type": "code",
    "id": "FrVE4GF---z7"
   },
   "outputs": [],
   "source": [
    "def build_model():\n",
    "    model = keras.Sequential()\n",
    "    model.add(keras.layers.Dense(20, input_dim = 20, activation=tf.nn.relu))\n",
    "    model.add(keras.layers.Dense(40, activation=tf.nn.relu))\n",
    "    model.add(keras.layers.Dense(1, activation=tf.nn.sigmoid))\n",
    "\n",
    "    model.compile(loss='binary_crossentropy', optimizer='adam', metrics=['accuracy'])\n",
    "    \n",
    "    return model"
   ]
  },
  {
   "cell_type": "markdown",
   "metadata": {
    "colab_type": "text",
    "id": "ZSg8k-GxCvPO"
   },
   "source": [
    "Verifique que modificamos também nossa função de otimização e métrica. Para entender melhor como o algoritmo de otimização \"adam\" funciona, veja o seguinte [artigo](https://machinelearningmastery.com/adam-optimization-algorithm-for-deep-learning/)."
   ]
  },
  {
   "cell_type": "markdown",
   "metadata": {
    "colab_type": "text",
    "id": "E3JK7QyjBKME"
   },
   "source": [
    "Vamos modificar nossa função para plotar os gráficos"
   ]
  },
  {
   "cell_type": "code",
   "execution_count": null,
   "metadata": {
    "colab": {},
    "colab_type": "code",
    "id": "rzEsJ-5vBOWc"
   },
   "outputs": [],
   "source": [
    "def plot_history(history):\n",
    "  plt.figure(figsize = (15, 10))\n",
    "  plt.xlabel('Epoch')\n",
    "  plt.ylabel('Accuracy')\n",
    "  plt.plot(history.epoch, np.array(history.history['acc']), label='Train Loss')\n",
    "  plt.plot(history.epoch, np.array(history.history['val_acc']), label = 'Val loss')\n",
    "  plt.legend()"
   ]
  },
  {
   "cell_type": "code",
   "execution_count": null,
   "metadata": {
    "colab": {
     "base_uri": "https://localhost:8080/",
     "height": 606
    },
    "colab_type": "code",
    "executionInfo": {
     "elapsed": 10064,
     "status": "ok",
     "timestamp": 1538208790142,
     "user": {
      "displayName": "Fernando Secol",
      "photoUrl": "",
      "userId": "03337346942151607429"
     },
     "user_tz": 180
    },
    "id": "yktJVASA_4jc",
    "outputId": "fc9a9a2b-9ef4-44a3-9313-2e7dc1c94128"
   },
   "outputs": [],
   "source": [
    "model = build_model()\n",
    "\n",
    "history = model.fit(X_train, y_train, epochs = 5, validation_split = 0.2, verbose = False)\n",
    "\n",
    "plot_history(history)"
   ]
  },
  {
   "cell_type": "code",
   "execution_count": null,
   "metadata": {
    "colab": {
     "base_uri": "https://localhost:8080/",
     "height": 54
    },
    "colab_type": "code",
    "executionInfo": {
     "elapsed": 1749,
     "status": "ok",
     "timestamp": 1538208791976,
     "user": {
      "displayName": "Fernando Secol",
      "photoUrl": "",
      "userId": "03337346942151607429"
     },
     "user_tz": 180
    },
    "id": "oFen-axRAJvW",
    "outputId": "985fc60e-051b-4738-d9f3-31ebb453dacc"
   },
   "outputs": [],
   "source": [
    "[loss, acc] = model.evaluate(X_test, y_test)\n",
    "\n",
    "print(\"Acc: {:.4f}\".format(acc))"
   ]
  },
  {
   "cell_type": "code",
   "execution_count": null,
   "metadata": {
    "colab": {},
    "colab_type": "code",
    "id": "MOibRRZ3MLuZ"
   },
   "outputs": [],
   "source": [
    "import seaborn as sns\n",
    "from sklearn.metrics import accuracy_score, f1_score, precision_score, recall_score, confusion_matrix, roc_curve, auc"
   ]
  },
  {
   "cell_type": "markdown",
   "metadata": {
    "colab_type": "text",
    "id": "_O37_RoM_V2g"
   },
   "source": [
    "Podemos plotar nossa matriz de confusão:"
   ]
  },
  {
   "cell_type": "code",
   "execution_count": null,
   "metadata": {
    "colab": {
     "base_uri": "https://localhost:8080/",
     "height": 35
    },
    "colab_type": "code",
    "executionInfo": {
     "elapsed": 1922,
     "status": "ok",
     "timestamp": 1538208794772,
     "user": {
      "displayName": "Fernando Secol",
      "photoUrl": "",
      "userId": "03337346942151607429"
     },
     "user_tz": 180
    },
    "id": "AJHdQyJqNhdR",
    "outputId": "2e906ead-0cd9-41f7-89a7-6775bdbbc5dd"
   },
   "outputs": [],
   "source": [
    "test_preds = model.predict(X_test).flatten()\n",
    "test_preds_bin = (test_preds > 0.5)\n",
    "test_preds_bin"
   ]
  },
  {
   "cell_type": "code",
   "execution_count": null,
   "metadata": {
    "colab": {
     "base_uri": "https://localhost:8080/",
     "height": 365
    },
    "colab_type": "code",
    "executionInfo": {
     "elapsed": 851,
     "status": "ok",
     "timestamp": 1538208795752,
     "user": {
      "displayName": "Fernando Secol",
      "photoUrl": "",
      "userId": "03337346942151607429"
     },
     "user_tz": 180
    },
    "id": "hSIWc1ycNDGU",
    "outputId": "dc6e0184-1397-4045-b91e-ad27dadfd419"
   },
   "outputs": [],
   "source": [
    "cm  = confusion_matrix(y_test, test_preds_bin)\n",
    "\n",
    "sns.heatmap(cm, annot = True, fmt='g', cmap = 'winter')"
   ]
  },
  {
   "cell_type": "markdown",
   "metadata": {
    "colab_type": "text",
    "id": "t0wTyaGJPwWw"
   },
   "source": [
    "## Curva ROC\n",
    "\n",
    "A Curva de operação do receptor (*Receiver Operationg Characteristic*)  é uma representação gráfica que ilustra o desempenho (ou performance) de um sistema classificador binário e como o seu limiar de discriminação é variado. [Wikipedia](https://pt.wikipedia.org/wiki/Caracter%C3%ADstica_de_Opera%C3%A7%C3%A3o_do_Receptor)\n",
    "\n",
    " ![PIC6](https://ncss-wpengine.netdna-ssl.com/wp-content/uploads/2016/06/ROC-Curves-Empirical-19.png)"
   ]
  },
  {
   "cell_type": "markdown",
   "metadata": {
    "colab_type": "text",
    "id": "58gomEGBTiu0"
   },
   "source": [
    "#### Sensitivity\n",
    "\n",
    "Também chamada de *true positive rate*, *recall* ou *probabilidade de detecção*. Mede a proporção de positivos realmente detectados como positivos.\n",
    "\n",
    "$$\n",
    "TPR = \\frac{TP}{TP + FN}\n",
    "$$\n",
    "\n",
    "#### Specificity\n",
    "\n",
    "Também chamada de *true negative rate*, mede a proporção de negativos realmente detectados como negativos.\n",
    "\n",
    "$$\n",
    "TNR = \\frac{TN}{TN + FP}\n",
    "$$"
   ]
  },
  {
   "cell_type": "code",
   "execution_count": null,
   "metadata": {
    "colab": {
     "base_uri": "https://localhost:8080/",
     "height": 581
    },
    "colab_type": "code",
    "executionInfo": {
     "elapsed": 740,
     "status": "ok",
     "timestamp": 1538208796630,
     "user": {
      "displayName": "Fernando Secol",
      "photoUrl": "",
      "userId": "03337346942151607429"
     },
     "user_tz": 180
    },
    "id": "uRoJXeErPvLh",
    "outputId": "858ec9cd-5966-4c6a-c682-e38c57f25ff0"
   },
   "outputs": [],
   "source": [
    "YouTubeVideo('21Igj5Pr6u4', width = 720, height = 560)"
   ]
  },
  {
   "cell_type": "markdown",
   "metadata": {
    "colab_type": "text",
    "id": "akRPphWxUwmj"
   },
   "source": [
    "Obtendo os valores:"
   ]
  },
  {
   "cell_type": "code",
   "execution_count": null,
   "metadata": {
    "colab": {},
    "colab_type": "code",
    "id": "dUu8Jbi9OCdM"
   },
   "outputs": [],
   "source": [
    "fpr, tpr, thresholds = roc_curve(y_test, test_preds)\n",
    "auc_calc = auc(fpr, tpr)"
   ]
  },
  {
   "cell_type": "code",
   "execution_count": null,
   "metadata": {
    "colab": {
     "base_uri": "https://localhost:8080/",
     "height": 638
    },
    "colab_type": "code",
    "executionInfo": {
     "elapsed": 536,
     "status": "ok",
     "timestamp": 1538209017642,
     "user": {
      "displayName": "Fernando Secol",
      "photoUrl": "",
      "userId": "03337346942151607429"
     },
     "user_tz": 180
    },
    "id": "93XMrXZYVpb7",
    "outputId": "c58db27c-84b1-4fbf-f61f-b0b5795fc9f8"
   },
   "outputs": [],
   "source": [
    "plt.figure(figsize = (15, 10))\n",
    "plt.plot(fpr, tpr, label='Modelo (area = {:.3f})'.format(auc_calc))\n",
    "plt.xlabel('False positive rate')\n",
    "plt.ylabel('True positive rate')\n",
    "plt.title('Curva ROC')\n",
    "plt.legend(loc='best')\n",
    "plt.plot([0, 1], [0, 1], 'k--')"
   ]
  }
 ],
 "metadata": {
  "colab": {
   "collapsed_sections": [],
   "name": "resolvido_regressao_tensorflow.ipynb",
   "provenance": [],
   "toc_visible": true,
   "version": "0.3.2"
  },
  "kernelspec": {
   "display_name": "Python 3",
   "language": "python",
   "name": "python3"
  },
  "language_info": {
   "codemirror_mode": {
    "name": "ipython",
    "version": 3
   },
   "file_extension": ".py",
   "mimetype": "text/x-python",
   "name": "python",
   "nbconvert_exporter": "python",
   "pygments_lexer": "ipython3",
   "version": "3.6.7"
  }
 },
 "nbformat": 4,
 "nbformat_minor": 4
}
