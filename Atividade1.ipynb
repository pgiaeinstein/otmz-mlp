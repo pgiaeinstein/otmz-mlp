{
 "cells": [
  {
   "cell_type": "markdown",
   "metadata": {},
   "source": [
    "# Implementando uma máquina de estados"
   ]
  },
  {
   "cell_type": "markdown",
   "metadata": {},
   "source": [
    "### Exercício 1"
   ]
  },
  {
   "cell_type": "markdown",
   "metadata": {},
   "source": [
    "Vamos implementar uma máquina de estados como no diagrama abaixo. Este exercício é importante para a fixação de alguns conceitos da linguagem **Python** que serão necessários para o correto aproveitamento das demais atividades do curso."
   ]
  },
  {
   "cell_type": "markdown",
   "metadata": {},
   "source": [
    "![title](https://www.thiengo.com.br/img/post/normal/f8vu2jt9hh2fcendvulf6qb7t2528cd4c8ac16a31e05ff7bb569678aa3.png)"
   ]
  },
  {
   "cell_type": "code",
   "execution_count": null,
   "metadata": {},
   "outputs": [],
   "source": [
    "class MaquinaEstados():\n",
    "\n",
    "    def __init__(self, moedas=None, refrigerantes=0):\n",
    "        self.moedas = moedas\n",
    "        self.refrigerantes = refrigerantes\n",
    "    \n",
    "    def sem_moeda(self):\n",
    "        if self.moedas is None or self.moedas <= 0:\n",
    "            print('Nenhuma Moeda')\n",
    "        if self.moedas:\n",
    "            print('Inseriu Moeda')\n",
    "            self.com_moeda()\n",
    "\n",
    "    def com_moeda(self):\n",
    "        print('Despejar!')\n",
    "        self.venda()\n",
    "    \n",
    "    def venda(self):\n",
    "        print('Venda realizada')\n",
    "        self.moedas -= 1\n",
    "        self.refrigerantes -= 1\n",
    "        if self.refrigerantes > 0:\n",
    "            self.sem_moeda()\n",
    "        else:\n",
    "            self.sem_refrigerante()\n",
    "    \n",
    "    def sem_refrigerante(self):\n",
    "        print('Sem refrigerante')\n",
    "        \n",
    "    def inicio(self):\n",
    "        self.sem_moeda()"
   ]
  },
  {
   "cell_type": "code",
   "execution_count": null,
   "metadata": {},
   "outputs": [],
   "source": [
    "maq = MaquinaEstados(3, 3)"
   ]
  },
  {
   "cell_type": "code",
   "execution_count": null,
   "metadata": {},
   "outputs": [],
   "source": [
    "maq.inicio()"
   ]
  },
  {
   "cell_type": "markdown",
   "metadata": {},
   "source": [
    "## Rotina tratamento de dados"
   ]
  },
  {
   "cell_type": "markdown",
   "metadata": {},
   "source": [
    "Temos que pensar que da mesma maneira que trabalhamos uma base para o desenvolvimento de qualquer tipo de modelo, também precisamos trabalhar os dados em que este modelo será responsável por responder.\n",
    "\n",
    "Não há motivos em ter todo o trabalho de desenvolvimento de inteligência aplicada a tomada de decisão, se o trabalho não for utilizado em um ambiente produtivo.\n",
    "\n",
    "Existem muitas formas de servir um modelo baseado em IA, uma delas é através de um serviço web. Este é padrão que vamos estudar hoje.\n",
    "\n",
    "Imagine que nosso modelo, após o período de treinamento, é disponibilizado em um servidor web. Este servidor aguarda receber um pedido de processamento de informação.\n",
    "\n",
    "Este pedido é realizado através de um método POST, onde um json com os dados de entrada é esperado pelo serviço na estrutura descrita abaixo:\n",
    "\n",
    "```js\n",
    "{\n",
    "    \"unidade\" : \"PERDIZES\",\n",
    "    \"dt_agendamento\" : \"Dia Normal\",\n",
    "    \"mes\" : \"Dezembro\",\n",
    "    \"dia_da_semana\" : \"Terça\",\n",
    "    \"periodo_do_dia\" : \"Manha\",\n",
    "    \"fonte_pagadora\" : \"Convenio\",\n",
    "    \"sexo\" : \"Masculino\",\n",
    "    \"exame\" : \"Teste Ergometrico\",\n",
    "    \"area\" : \"METODOS GRAFICOS\",\n",
    "    \"idade\" : \"47\",\n",
    "    \"bairro\" : \"TAMBORE\",\n",
    "    \"cidade\" : \"SANTANA DE PARNAIBA\",\n",
    "    \"estado\" : \"SP\"\n",
    "}\n",
    "```\n",
    "\n",
    "O cliente espera que o serviço responda a previsão do modelo com os dados fornecidos, essa resposta será enviada da mesma maneira seguindo a estrutura abaixo:\n",
    "\n",
    "```js\n",
    "{\n",
    "    \"model_response\" : 0\n",
    "}\n",
    "```\n",
    "\n",
    "Se o cliente souber como interpretar a resposta, temos então uma arquitetura de request e response definidos.\n",
    "\n",
    "É importante que no momento do treinamento deste modelo, nós tenhamos o cuidado de pensar em como vamos disponibilizar essas informações e também como vamos processar os dados que recebemos.\n",
    "\n",
    "O objetivo desta atividade é demonstrar alguns cuidados que devemos ter com o preparo da base pensando nesses pontos.\n",
    "\n",
    "#### Lendo um arquivo Excel\n",
    "\n",
    "Para modelar o problema recebemos da área de negócios um arquivo em excel com os dados de agendamento de exames."
   ]
  },
  {
   "cell_type": "code",
   "execution_count": null,
   "metadata": {},
   "outputs": [],
   "source": [
    "data = pd.read_excel('https://github.com/pgiaeinstein/otmz-mlp/raw/master/saida_aula.xlsx')\n",
    "data.head()"
   ]
  },
  {
   "cell_type": "markdown",
   "metadata": {},
   "source": [
    "Note que o nome das colunas é diferente do padrão de estrutura que adotamos acima, vamos corrigir isso para não cometer nenhum erro no futuro:"
   ]
  },
  {
   "cell_type": "code",
   "execution_count": null,
   "metadata": {},
   "outputs": [],
   "source": [
    "colunas = ['unidade', 'dt_agendamento', 'mes', 'dia_da_semana', 'periodo_do_dia', 'fonte_pagadora', 'sexo', 'exame', 'area', 'idade', 'bairro', 'cidade', 'estado', 'status']\n",
    "\n",
    "data.columns = colunas"
   ]
  },
  {
   "cell_type": "code",
   "execution_count": null,
   "metadata": {},
   "outputs": [],
   "source": [
    "data.head()"
   ]
  },
  {
   "cell_type": "markdown",
   "metadata": {},
   "source": [
    "Para padronizar os dados, vamos modificar o conteúdo das colunas para que todas as letras sejam minúsculas e vamos também remover qualquer acento das palavras.\n",
    "\n",
    "Repare que em uma das colunas temos valores numéricos, podemos ter um resumo do nosso dataset utilizando o comando abaixo:"
   ]
  },
  {
   "cell_type": "code",
   "execution_count": null,
   "metadata": {},
   "outputs": [],
   "source": [
    "data.info()"
   ]
  },
  {
   "cell_type": "markdown",
   "metadata": {},
   "source": [
    "Repare que todos os valores textuais em nossa base tem o tipo `object`. Já a coluna *idade* possui tipo `int64`.\n",
    "\n",
    "Essa coluna não será modificada, temos que descobrir uma forma de identificar o tipo de cada coluna individualmente, isso pode ser feito como demonstrado abaixo:"
   ]
  },
  {
   "cell_type": "code",
   "execution_count": null,
   "metadata": {},
   "outputs": [],
   "source": [
    "for coluna in data.columns:\n",
    "    print(f'Coluna \"{coluna}\" tem tipo \"{data[coluna].dtype}\"')"
   ]
  },
  {
   "cell_type": "markdown",
   "metadata": {},
   "source": [
    "Agora que temos como diferenciar os tipos por colunas, podemos padronizar a informação.\n",
    "\n",
    "Para remover os acentos das palavras utilizaremos uma biblioteca do python chamada `unidecode`. "
   ]
  },
  {
   "cell_type": "code",
   "execution_count": null,
   "metadata": {},
   "outputs": [],
   "source": [
    "!pip install unidecode\n",
    "from unidecode import unidecode"
   ]
  },
  {
   "cell_type": "code",
   "execution_count": null,
   "metadata": {},
   "outputs": [],
   "source": [
    "for coluna in data.columns:\n",
    "    if data[coluna].dtype == 'object':\n",
    "        data[coluna] = data[coluna].str.lower()\n",
    "        data[coluna] = data[coluna].apply(unidecode)"
   ]
  },
  {
   "cell_type": "code",
   "execution_count": null,
   "metadata": {},
   "outputs": [],
   "source": [
    "data.head()"
   ]
  },
  {
   "cell_type": "markdown",
   "metadata": {},
   "source": [
    "Temos agora que criar uma forma de representar essa informação para que seja possível de um algoritmo interpretar. Como temos um problema dito binário, ou seja, há duas possibilidades de resposta:\n",
    "\n",
    "0. nao veio\n",
    "1. veio\n",
    "\n",
    "Vamos modificar a coluna `status` para respeitar este novo formato."
   ]
  },
  {
   "cell_type": "code",
   "execution_count": null,
   "metadata": {},
   "outputs": [],
   "source": [
    "status_dict = {\n",
    "    'veio' : 1,\n",
    "    'nao veio' : 0\n",
    "}\n",
    "\n",
    "data['status'] = data['status'].map(status_dict)"
   ]
  },
  {
   "cell_type": "code",
   "execution_count": null,
   "metadata": {},
   "outputs": [],
   "source": [
    "data.head(10)"
   ]
  },
  {
   "cell_type": "markdown",
   "metadata": {},
   "source": [
    "Reparem que a ordem pouco importa, o que fizemos foi criar um dicionário que vai servir como nosso tradutor de informação. Vamos fazer a mesma coisa para todas as colunas.\n",
    "\n",
    "Nada nos impede de criar esses dicionários na mão como no exemplo acima, porém, quando temos um número muito grande de classes, este trabalho pode ser complexo e podemos gerar algum erro.\n",
    "\n",
    "A biblioteca ScikitLearn têm algumas classes prontas para realizar este tipo de processamento. Iremos utilizar uma dessas classes para nos auxiliar nesta tarefa.\n",
    "\n",
    "Agora que temos os conteúdos padronizados, o ideal é separar o que temos como dados de `input` (features) e `output` (meta ou target)."
   ]
  },
  {
   "cell_type": "code",
   "execution_count": null,
   "metadata": {},
   "outputs": [],
   "source": [
    "features = data.iloc[:, :-1]\n",
    "meta     = data.iloc[:, 13]"
   ]
  },
  {
   "cell_type": "code",
   "execution_count": null,
   "metadata": {},
   "outputs": [],
   "source": [
    "features.head(10)"
   ]
  },
  {
   "cell_type": "code",
   "execution_count": null,
   "metadata": {},
   "outputs": [],
   "source": [
    "meta.head(10)"
   ]
  },
  {
   "cell_type": "markdown",
   "metadata": {},
   "source": [
    "Agora que temos o dataset devidamente separado, podemos criar nossos dicionários. Como dito acima, utilizaremos a classe [LabelEncoder](https://scikit-learn.org/stable/modules/generated/sklearn.preprocessing.LabelEncoder.html) para a tarefa:"
   ]
  },
  {
   "cell_type": "code",
   "execution_count": null,
   "metadata": {},
   "outputs": [],
   "source": [
    "from sklearn.preprocessing import LabelEncoder\n",
    "\n",
    "cols   = features.dtypes==object\n",
    "labels = features.columns[cols].tolist()\n",
    "\n",
    "dicionarios = dict()\n",
    "\n",
    "for label in labels:\n",
    "    le = LabelEncoder()\n",
    "    le.fit(features[label])\n",
    "    le_name_mapping = dict(zip(le.classes_, le.transform(le.classes_)))\n",
    "    dicionarios[label] = le_name_mapping"
   ]
  },
  {
   "cell_type": "markdown",
   "metadata": {},
   "source": [
    "O resultado da operação é um grande dicionário de dicionários, veja abaixo:"
   ]
  },
  {
   "cell_type": "code",
   "execution_count": null,
   "metadata": {},
   "outputs": [],
   "source": [
    "dicionarios"
   ]
  },
  {
   "cell_type": "markdown",
   "metadata": {},
   "source": [
    "O problema é que nossos índices iniciam em 0, por padrão, vamos utilizar o 0 em caso de dado não identificado. Para cada chave iremos somar o valor de 1, assim resolvemos esse problema do 0."
   ]
  },
  {
   "cell_type": "code",
   "execution_count": null,
   "metadata": {},
   "outputs": [],
   "source": [
    "for label in labels:\n",
    "    dict_tmp = dicionarios[label]\n",
    "\n",
    "    for key, value in dict_tmp.items():\n",
    "        dict_tmp[key] = value + 1"
   ]
  },
  {
   "cell_type": "code",
   "execution_count": null,
   "metadata": {},
   "outputs": [],
   "source": [
    "dicionarios"
   ]
  },
  {
   "cell_type": "markdown",
   "metadata": {},
   "source": [
    "Precisamos agora de uma maneira de salvar esses dicionários para uso posterior. Imagine que vamos traduzir informação nova para classificação, não necessariamente temos que treinar o modelo toda vez que uma nova informação é disponibilizada.\n",
    "\n",
    "Poderíamos salvar esses dicionários em arquivos json para facilitar a interoperabilidade entre sistemas, mas vamos salvar em objetos Python através da biblioteca `pickle`. Veja o exemplo:"
   ]
  },
  {
   "cell_type": "code",
   "execution_count": null,
   "metadata": {},
   "outputs": [],
   "source": [
    "import pickle"
   ]
  },
  {
   "cell_type": "code",
   "execution_count": null,
   "metadata": {},
   "outputs": [],
   "source": [
    "unidade_dict = dicionarios['unidade']"
   ]
  },
  {
   "cell_type": "code",
   "execution_count": null,
   "metadata": {},
   "outputs": [],
   "source": [
    "unidade_dict"
   ]
  },
  {
   "cell_type": "code",
   "execution_count": null,
   "metadata": {},
   "outputs": [],
   "source": [
    "pickle.dump(unidade_dict ,open('unidade_dict.pk', 'wb'))"
   ]
  },
  {
   "cell_type": "markdown",
   "metadata": {},
   "source": [
    "Através do método `dump` podemos salvar o dicionário para uso posterior. Para carregar novamente este dicionário, utilizamos o método `load`:"
   ]
  },
  {
   "cell_type": "code",
   "execution_count": null,
   "metadata": {},
   "outputs": [],
   "source": [
    "load_unidade_dict = pickle.load(open('unidade_dict.pk', 'rb'))"
   ]
  },
  {
   "cell_type": "code",
   "execution_count": null,
   "metadata": {},
   "outputs": [],
   "source": [
    "unidade_dict"
   ]
  },
  {
   "cell_type": "code",
   "execution_count": null,
   "metadata": {},
   "outputs": [],
   "source": [
    "load_unidade_dict"
   ]
  },
  {
   "cell_type": "markdown",
   "metadata": {},
   "source": [
    "Podemos automatizar a criação destes arquivos da seguinte forma:"
   ]
  },
  {
   "cell_type": "code",
   "execution_count": null,
   "metadata": {},
   "outputs": [],
   "source": [
    "for label in labels:\n",
    "    dict_tmp = dicionarios[label]\n",
    "    pickle.dump(dict_tmp ,open(f'__dict_{label}.pk', 'wb'))"
   ]
  },
  {
   "cell_type": "markdown",
   "metadata": {},
   "source": [
    "O que fizemos foi criar um arquivo por dicionário seguindo o padrão \"**dict_nome_da_coluna.pk**\".\n",
    "\n",
    "Podemos também modificar todo o conteúdo do nosso dataset seguindo esse padrão representativo numérico que criamos:"
   ]
  },
  {
   "cell_type": "code",
   "execution_count": null,
   "metadata": {},
   "outputs": [],
   "source": [
    "for label in labels:\n",
    "    features[label] = features[label].map(dicionarios[label])"
   ]
  },
  {
   "cell_type": "code",
   "execution_count": null,
   "metadata": {},
   "outputs": [],
   "source": [
    "features.head()"
   ]
  },
  {
   "cell_type": "markdown",
   "metadata": {},
   "source": [
    "## Problema\n",
    "\n",
    "Crie uma classe para automatizar a tradução dos dados novos que você receberá neste projeto. Utilize dos arquivos gerados para criar uma forma de automatizar o processo.\n",
    "\n",
    "Para testar sua classe, utilize a estrutura abaixo:\n",
    "\n",
    "```js\n",
    "{\n",
    "    \"unidade\" : \"PERDIZES\",\n",
    "    \"dt_agendamento\" : \"Dia Normal\",\n",
    "    \"mes\" : \"Dezembro\",\n",
    "    \"dia_da_semana\" : \"Terça\",\n",
    "    \"periodo_do_dia\" : \"Manha\",\n",
    "    \"fonte_pagadora\" : \"Convenio\",\n",
    "    \"sexo\" : \"Masculino\",\n",
    "    \"exame\" : \"Teste Ergometrico\",\n",
    "    \"area\" : \"METODOS GRAFICOS\",\n",
    "    \"idade\" : \"47\",\n",
    "    \"bairro\" : \"TAMBORE\",\n",
    "    \"cidade\" : \"SANTANA DE PARNAIBA\",\n",
    "    \"estado\" : \"SP\"\n",
    "}\n",
    "```\n",
    "\n",
    "O resultado deverá ser um array dos valores inteiros relativos as classes criadas no exemplo acima. A ordem dos valores deve respeitar a mesma ordem do dicionário dados.\n",
    "\n",
    "> Dica:\n",
    "> Tente rodar o seguinte comando: `dados.get('unidade', None)` verifique o valor obtido como output"
   ]
  },
  {
   "cell_type": "code",
   "execution_count": null,
   "metadata": {},
   "outputs": [],
   "source": [
    "!wget https://github.com/pgiaeinstein/otmz-mlp/raw/master/dict_data/dict_area.pk\n",
    "!wget https://github.com/pgiaeinstein/otmz-mlp/raw/master/dict_data/dict_bairro.pk\n",
    "!wget https://github.com/pgiaeinstein/otmz-mlp/raw/master/dict_data/dict_cidade.pk\n",
    "!wget https://github.com/pgiaeinstein/otmz-mlp/raw/master/dict_data/dict_dia_da_semana.pk\n",
    "!wget https://github.com/pgiaeinstein/otmz-mlp/raw/master/dict_data/dict_dt_agendamento.pk\n",
    "!wget https://github.com/pgiaeinstein/otmz-mlp/raw/master/dict_data/dict_estado.pk\n",
    "!wget https://github.com/pgiaeinstein/otmz-mlp/raw/master/dict_data/dict_exame.pk\n",
    "!wget https://github.com/pgiaeinstein/otmz-mlp/raw/master/dict_data/dict_fonte_pagadora.pk\n",
    "!wget https://github.com/pgiaeinstein/otmz-mlp/raw/master/dict_data/dict_mes.pk\n",
    "!wget https://github.com/pgiaeinstein/otmz-mlp/raw/master/dict_data/dict_periodo_do_dia.pk\n",
    "!wget https://github.com/pgiaeinstein/otmz-mlp/raw/master/dict_data/dict_sexo.pk\n",
    "!wget https://github.com/pgiaeinstein/otmz-mlp/raw/master/dict_data/dict_unidade.pk"
   ]
  },
  {
   "cell_type": "code",
   "execution_count": 1,
   "metadata": {},
   "outputs": [],
   "source": [
    "dados = {\n",
    "    \"unidade\" : \"PERDIZES\",\n",
    "    \"dt_agendamento\" : \"Dia Normal\",\n",
    "    \"mes\" : \"Dezembro\",\n",
    "    \"dia_da_semana\" : \"Terça\",\n",
    "    \"periodo_do_dia\" : \"Manha\",\n",
    "    \"fonte_pagadora\" : \"Convenio\",\n",
    "    \"sexo\" : \"Masculino\",\n",
    "    \"exame\" : \"Teste Ergometrico\",\n",
    "    \"area\" : \"METODOS GRAFICOS\",\n",
    "    \"idade\" : \"47\",\n",
    "    \"bairro\" : \"TAMBORE\",\n",
    "    \"cidade\" : \"SANTANA DE PARNAIBA\",\n",
    "    \"estado\" : \"SP\"\n",
    "}"
   ]
  }
 ],
 "metadata": {
  "kernelspec": {
   "display_name": "Python 3",
   "language": "python",
   "name": "python3"
  },
  "language_info": {
   "codemirror_mode": {
    "name": "ipython",
    "version": 3
   },
   "file_extension": ".py",
   "mimetype": "text/x-python",
   "name": "python",
   "nbconvert_exporter": "python",
   "pygments_lexer": "ipython3",
   "version": "3.6.8"
  }
 },
 "nbformat": 4,
 "nbformat_minor": 4
}
